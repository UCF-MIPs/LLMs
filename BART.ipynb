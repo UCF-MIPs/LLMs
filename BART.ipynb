{
 "cells": [
  {
   "cell_type": "code",
   "execution_count": null,
   "id": "1c0f418a",
   "metadata": {},
   "outputs": [],
   "source": [
    "import pandas as pd\n",
    "import re\n",
    "from transformers import pipeline\n",
    "from sklearn.metrics import confusion_matrix, classification_report\n",
    "import matplotlib.pyplot as plt\n",
    "import seaborn as sns\n",
    "import tqdm"
   ]
  },
  {
   "cell_type": "code",
   "execution_count": null,
   "id": "3f8db1ae",
   "metadata": {},
   "outputs": [],
   "source": [
    "df_main = pd.read_csv('./labeled.csv')\n",
    "#df_main = df_main[df_main['text'].notna()]\n",
    "#df_main['index1'] = df_main.index"
   ]
  },
  {
   "cell_type": "code",
   "execution_count": null,
   "id": "95e52f5c",
   "metadata": {},
   "outputs": [],
   "source": [
    "def clean_text(text):\n",
    "    # Remove emails\n",
    "    text = re.sub(r'\\S+@\\S+', '', text)\n",
    "\n",
    "    # Remove URLs\n",
    "    text = re.sub(r'http\\S+', '', text)\n",
    "    text = re.sub(r'www\\S+', '', text)\n",
    "\n",
    "    # Remove numbers\n",
    "    text = re.sub(r'\\d+', '', text)\n",
    "\n",
    "    # Remove punctuation and special characters\n",
    "    text = re.sub(r'[^\\w\\s]', '', text)\n",
    "\n",
    "    # Remove extra whitespace\n",
    "    text = re.sub(r'\\s+', ' ', text)\n",
    "    \n",
    "    text = text.replace('_', '')\n",
    "    text = text.replace('-', '')\n",
    "\n",
    "    # Convert to lowercase\n",
    "    text = text.lower()\n",
    "\n",
    "    return text\n",
    "\n",
    "def clean_dataframe(df, column_name):\n",
    "    # Clean text in the specified column of the DataFrame\n",
    "    df[column_name] = df[column_name].apply(clean_text)\n",
    "    return df"
   ]
  },
  {
   "cell_type": "code",
   "execution_count": null,
   "id": "b7d1c5f2",
   "metadata": {},
   "outputs": [],
   "source": [
    "# clean data\n",
    "df_main = clean_dataframe(df_main, 'text')"
   ]
  },
  {
   "cell_type": "code",
   "execution_count": null,
   "id": "20487d84",
   "metadata": {},
   "outputs": [],
   "source": [
    "df_main['stance'].value_counts()"
   ]
  },
  {
   "cell_type": "code",
   "execution_count": null,
   "id": "da8d0d11",
   "metadata": {},
   "outputs": [],
   "source": [
    "bart_pipeline = pipeline(task=\"zero-shot-classification\", model=\"facebook/bart-large-mnli\", pretrained = True)"
   ]
  },
  {
   "cell_type": "markdown",
   "id": "642a0427",
   "metadata": {},
   "source": [
    "#### One article classification with premise, labels and hypothesis"
   ]
  },
  {
   "cell_type": "code",
   "execution_count": null,
   "id": "f1a16135",
   "metadata": {},
   "outputs": [],
   "source": [
    "stance_freq = df_main['stance'].value_counts()\n",
    "stance_names = stance_freq.index.tolist()\n",
    "print(stance_names)"
   ]
  },
  {
   "cell_type": "code",
   "execution_count": null,
   "id": "31f8fa4f",
   "metadata": {},
   "outputs": [],
   "source": [
    "premise = df_main['text'][0]\n",
    "labels = stance_names\n",
    "hypothesis = \" The stance of this text is anti-russian {}\""
   ]
  },
  {
   "cell_type": "code",
   "execution_count": null,
   "id": "d85435d8",
   "metadata": {},
   "outputs": [],
   "source": [
    "# without hypothesis\n",
    "predictions = bart_pipeline(premise, labels, multi_label = False)\n",
    "print(predictions)"
   ]
  },
  {
   "cell_type": "code",
   "execution_count": null,
   "id": "7822603f",
   "metadata": {},
   "outputs": [],
   "source": [
    "# with hypothesis\n",
    "predictions = bart_pipeline(premise, labels, multi_label = False, hypothesis_template = hypothesis)\n",
    "print(predictions)"
   ]
  },
  {
   "cell_type": "markdown",
   "id": "e766ca4d",
   "metadata": {},
   "source": [
    "#### All articles classification with premise, labels and hypothesis"
   ]
  },
  {
   "cell_type": "code",
   "execution_count": null,
   "id": "0695c0b7",
   "metadata": {},
   "outputs": [],
   "source": [
    "df_main1 = df_main.copy()\n",
    "df_main1['BART_labels'] = df_main.apply(lambda x: bart_pipeline(x.text, labels, multi_label = False, hypothesis_template = hypothesis), axis = 1)"
   ]
  },
  {
   "cell_type": "code",
   "execution_count": null,
   "id": "2357762f",
   "metadata": {},
   "outputs": [],
   "source": [
    "df_main1['BART_labels']"
   ]
  },
  {
   "cell_type": "code",
   "execution_count": null,
   "id": "c50f538c",
   "metadata": {},
   "outputs": [],
   "source": [
    "df_main1['BART_predicted_category'] = df_main1.apply(lambda row: row['BART_labels']['labels'][0], axis = 1)\n",
    "df_main1['BART_score'] = df_main1.apply(lambda row: row['BART_labels']['scores'][0], axis = 1)"
   ]
  },
  {
   "cell_type": "code",
   "execution_count": null,
   "id": "ffd6f80c",
   "metadata": {},
   "outputs": [],
   "source": [
    "df_main1['BART_predicted_category'].value_counts()"
   ]
  },
  {
   "cell_type": "code",
   "execution_count": null,
   "id": "3fb4cc37",
   "metadata": {},
   "outputs": [],
   "source": [
    "df_main1['BART_enc'] = df_main1['BART_predicted_category'].map({'Neutral': 1, 'Pro-Russian': 2, 'Anti-Russian': 0})"
   ]
  },
  {
   "cell_type": "code",
   "execution_count": null,
   "id": "27045cf4",
   "metadata": {},
   "outputs": [],
   "source": [
    "cm = confusion_matrix(df_main1['stance_enc'], df_main1['BART_enc'])\n",
    "\n",
    "cm_df = pd.DataFrame(cm)\n",
    "\n",
    "plt.figure(figsize=(6,5))\n",
    "sns.heatmap(cm_df,annot=True, fmt=\".1f\")\n",
    "plt.title('Confusion Matrix')\n",
    "plt.ylabel('Actal Values')\n",
    "plt.xlabel('Predicted Values')\n",
    "plt.show()"
   ]
  },
  {
   "cell_type": "code",
   "execution_count": null,
   "id": "913f66ff",
   "metadata": {},
   "outputs": [],
   "source": [
    "print('\\nClassification Report:\\n', classification_report(df_main1['stance_enc'], df_main1['BART_enc']))"
   ]
  }
 ],
 "metadata": {
  "kernelspec": {
   "display_name": "Python 3 (ipykernel)",
   "language": "python",
   "name": "python3"
  },
  "language_info": {
   "codemirror_mode": {
    "name": "ipython",
    "version": 3
   },
   "file_extension": ".py",
   "mimetype": "text/x-python",
   "name": "python",
   "nbconvert_exporter": "python",
   "pygments_lexer": "ipython3",
   "version": "3.10.11"
  }
 },
 "nbformat": 4,
 "nbformat_minor": 5
}
